{
 "cells": [
  {
   "cell_type": "code",
   "execution_count": null,
   "metadata": {},
   "outputs": [],
   "source": [
    "#install kaggle\n",
    "! pip install kaggle"
   ]
  },
  {
   "cell_type": "code",
   "execution_count": 88,
   "metadata": {},
   "outputs": [],
   "source": [
    "#import the kaggle\n",
    "import kaggle"
   ]
  },
  {
   "cell_type": "code",
   "execution_count": 89,
   "metadata": {},
   "outputs": [
    {
     "name": "stdout",
     "output_type": "stream",
     "text": [
      "Dataset URL: https://www.kaggle.com/datasets/ankitbansal06/retail-orders\n",
      "License(s): CC0-1.0\n",
      "orders.csv.zip: Skipping, found more recently modified local copy (use --force to force download)\n"
     ]
    }
   ],
   "source": [
    "#link to download the dataset from kaggle\n",
    "!kaggle datasets download ankitbansal06/retail-orders -f orders.csv\n"
   ]
  },
  {
   "cell_type": "code",
   "execution_count": null,
   "metadata": {},
   "outputs": [],
   "source": [
    "#to  unzip the csv file \n",
    "import zipfile\n",
    "\n",
    "# Path to the ZIP file\n",
    "zip_file_path = r\"C:\\Users\\monik\\OneDrive\\Desktop\\Guvi_Projects\\MiniProject1\\orders.csv.zip\"  #using 'r' for raw string coz '\\' is used for escape character\n",
    "# Folder to extract the files into\n",
    "output_folder = r\"C:\\Users\\monik\\OneDrive\\Desktop\\Guvi_Projects\\MiniProject1\\Unzip\"\n",
    "\n",
    "# Unzip the file\n",
    "with zipfile.ZipFile(zip_file_path, 'r') as zip_ref: #open the zip file in read mode \n",
    "    zip_ref.extractall(output_folder) #extract the content in zip file \n",
    "\n",
    "print(f\"All files extracted to {output_folder}\")\n"
   ]
  },
  {
   "cell_type": "code",
   "execution_count": null,
   "metadata": {},
   "outputs": [],
   "source": [
    "#install pandas\n",
    "!pip install pandas"
   ]
  },
  {
   "cell_type": "code",
   "execution_count": 92,
   "metadata": {},
   "outputs": [],
   "source": [
    "import pandas as pd \n",
    "\n",
    "file_path = r\"c:\\Users\\monik\\OneDrive\\Desktop\\Guvi_Projects\\MiniProject1\\Unzip\\orders.csv\"\n",
    "\n",
    "# Read the file into a DataFrame\n",
    "df = pd.read_csv(file_path)"
   ]
  },
  {
   "cell_type": "code",
   "execution_count": 93,
   "metadata": {},
   "outputs": [
    {
     "name": "stdout",
     "output_type": "stream",
     "text": [
      "      Order Id  Order Date       Ship Mode    Segment        Country  \\\n",
      "0            1  2023-03-01    Second Class   Consumer  United States   \n",
      "1            2  2023-08-15    Second Class   Consumer  United States   \n",
      "2            3  2023-01-10    Second Class  Corporate  United States   \n",
      "3            4  2022-06-18  Standard Class   Consumer  United States   \n",
      "4            5  2022-07-13  Standard Class   Consumer  United States   \n",
      "...        ...         ...             ...        ...            ...   \n",
      "9989      9990  2023-02-18    Second Class   Consumer  United States   \n",
      "9990      9991  2023-03-17  Standard Class   Consumer  United States   \n",
      "9991      9992  2022-08-07  Standard Class   Consumer  United States   \n",
      "9992      9993  2022-11-19  Standard Class   Consumer  United States   \n",
      "9993      9994  2022-07-17    Second Class   Consumer  United States   \n",
      "\n",
      "                 City       State  Postal Code Region         Category  \\\n",
      "0           Henderson    Kentucky        42420  South        Furniture   \n",
      "1           Henderson    Kentucky        42420  South        Furniture   \n",
      "2         Los Angeles  California        90036   West  Office Supplies   \n",
      "3     Fort Lauderdale     Florida        33311  South        Furniture   \n",
      "4     Fort Lauderdale     Florida        33311  South  Office Supplies   \n",
      "...               ...         ...          ...    ...              ...   \n",
      "9989            Miami     Florida        33180  South        Furniture   \n",
      "9990       Costa Mesa  California        92627   West        Furniture   \n",
      "9991       Costa Mesa  California        92627   West       Technology   \n",
      "9992       Costa Mesa  California        92627   West  Office Supplies   \n",
      "9993      Westminster  California        92683   West  Office Supplies   \n",
      "\n",
      "     Sub Category       Product Id  cost price  List Price  Quantity  \\\n",
      "0       Bookcases  FUR-BO-10001798         240         260         2   \n",
      "1          Chairs  FUR-CH-10000454         600         730         3   \n",
      "2          Labels  OFF-LA-10000240          10          10         2   \n",
      "3          Tables  FUR-TA-10000577         780         960         5   \n",
      "4         Storage  OFF-ST-10000760          20          20         2   \n",
      "...           ...              ...         ...         ...       ...   \n",
      "9989  Furnishings  FUR-FU-10001889          30          30         3   \n",
      "9990  Furnishings  FUR-FU-10000747          70          90         2   \n",
      "9991       Phones  TEC-PH-10003645         220         260         2   \n",
      "9992        Paper  OFF-PA-10004041          30          30         4   \n",
      "9993   Appliances  OFF-AP-10002684         210         240         2   \n",
      "\n",
      "      Discount Percent  \n",
      "0                    2  \n",
      "1                    3  \n",
      "2                    5  \n",
      "3                    2  \n",
      "4                    5  \n",
      "...                ...  \n",
      "9989                 4  \n",
      "9990                 4  \n",
      "9991                 2  \n",
      "9992                 3  \n",
      "9993                 3  \n",
      "\n",
      "[9994 rows x 16 columns]\n"
     ]
    }
   ],
   "source": [
    "#display the table\n",
    "print(df)"
   ]
  },
  {
   "cell_type": "code",
   "execution_count": 94,
   "metadata": {},
   "outputs": [
    {
     "name": "stdout",
     "output_type": "stream",
     "text": [
      "      Order Id  Order Date  Ship Mode  Segment  Country   City  State  \\\n",
      "0        False       False      False    False    False  False  False   \n",
      "1        False       False      False    False    False  False  False   \n",
      "2        False       False      False    False    False  False  False   \n",
      "3        False       False      False    False    False  False  False   \n",
      "4        False       False      False    False    False  False  False   \n",
      "...        ...         ...        ...      ...      ...    ...    ...   \n",
      "9989     False       False      False    False    False  False  False   \n",
      "9990     False       False      False    False    False  False  False   \n",
      "9991     False       False      False    False    False  False  False   \n",
      "9992     False       False      False    False    False  False  False   \n",
      "9993     False       False      False    False    False  False  False   \n",
      "\n",
      "      Postal Code  Region  Category  Sub Category  Product Id  cost price  \\\n",
      "0           False   False     False         False       False       False   \n",
      "1           False   False     False         False       False       False   \n",
      "2           False   False     False         False       False       False   \n",
      "3           False   False     False         False       False       False   \n",
      "4           False   False     False         False       False       False   \n",
      "...           ...     ...       ...           ...         ...         ...   \n",
      "9989        False   False     False         False       False       False   \n",
      "9990        False   False     False         False       False       False   \n",
      "9991        False   False     False         False       False       False   \n",
      "9992        False   False     False         False       False       False   \n",
      "9993        False   False     False         False       False       False   \n",
      "\n",
      "      List Price  Quantity  Discount Percent  \n",
      "0          False     False             False  \n",
      "1          False     False             False  \n",
      "2          False     False             False  \n",
      "3          False     False             False  \n",
      "4          False     False             False  \n",
      "...          ...       ...               ...  \n",
      "9989       False     False             False  \n",
      "9990       False     False             False  \n",
      "9991       False     False             False  \n",
      "9992       False     False             False  \n",
      "9993       False     False             False  \n",
      "\n",
      "[9994 rows x 16 columns]\n"
     ]
    }
   ],
   "source": [
    "# Detect missing values\n",
    "missing_values = df.isna()\n",
    "print(missing_values)"
   ]
  },
  {
   "cell_type": "code",
   "execution_count": 95,
   "metadata": {},
   "outputs": [
    {
     "name": "stdout",
     "output_type": "stream",
     "text": [
      "Order Id            0\n",
      "Order Date          0\n",
      "Ship Mode           1\n",
      "Segment             0\n",
      "Country             0\n",
      "City                0\n",
      "State               0\n",
      "Postal Code         0\n",
      "Region              0\n",
      "Category            0\n",
      "Sub Category        0\n",
      "Product Id          0\n",
      "cost price          0\n",
      "List Price          0\n",
      "Quantity            0\n",
      "Discount Percent    0\n",
      "dtype: int64\n"
     ]
    }
   ],
   "source": [
    "# Sum of missing values in each column\n",
    "missing_counts = df.isna().sum()\n",
    "print(missing_counts)"
   ]
  },
  {
   "cell_type": "code",
   "execution_count": 96,
   "metadata": {},
   "outputs": [
    {
     "name": "stderr",
     "output_type": "stream",
     "text": [
      "C:\\Users\\monik\\AppData\\Local\\Temp\\ipykernel_29848\\2957531471.py:2: FutureWarning: A value is trying to be set on a copy of a DataFrame or Series through chained assignment using an inplace method.\n",
      "The behavior will change in pandas 3.0. This inplace method will never work because the intermediate object on which we are setting values always behaves as a copy.\n",
      "\n",
      "For example, when doing 'df[col].method(value, inplace=True)', try using 'df.method({col: value}, inplace=True)' or df[col] = df[col].method(value) instead, to perform the operation inplace on the original object.\n",
      "\n",
      "\n",
      "  df['Ship Mode'].fillna(0, inplace=True)\n"
     ]
    }
   ],
   "source": [
    "#filling the missing value with 0\n",
    "df['Ship Mode'].fillna(0, inplace=True)\n"
   ]
  },
  {
   "cell_type": "code",
   "execution_count": 97,
   "metadata": {},
   "outputs": [
    {
     "name": "stdout",
     "output_type": "stream",
     "text": [
      "Order Id            0\n",
      "Order Date          0\n",
      "Ship Mode           0\n",
      "Segment             0\n",
      "Country             0\n",
      "City                0\n",
      "State               0\n",
      "Postal Code         0\n",
      "Region              0\n",
      "Category            0\n",
      "Sub Category        0\n",
      "Product Id          0\n",
      "cost price          0\n",
      "List Price          0\n",
      "Quantity            0\n",
      "Discount Percent    0\n",
      "dtype: int64\n"
     ]
    }
   ],
   "source": [
    "#then check the missing count again\n",
    "missing_counts = df.isna().sum()\n",
    "print(missing_counts)"
   ]
  },
  {
   "cell_type": "code",
   "execution_count": 98,
   "metadata": {},
   "outputs": [
    {
     "data": {
      "text/plain": [
       "Index(['Order Id', 'Order Date', 'Ship Mode', 'Segment', 'Country', 'City',\n",
       "       'State', 'Postal Code', 'Region', 'Category', 'Sub Category',\n",
       "       'Product Id', 'cost price', 'List Price', 'Quantity',\n",
       "       'Discount Percent'],\n",
       "      dtype='object')"
      ]
     },
     "execution_count": 98,
     "metadata": {},
     "output_type": "execute_result"
    }
   ],
   "source": [
    "#to check the column name\n",
    "df.columns"
   ]
  },
  {
   "cell_type": "code",
   "execution_count": 99,
   "metadata": {},
   "outputs": [
    {
     "data": {
      "text/plain": [
       "Index(['order_id', 'order_date', 'ship_mode', 'segment', 'country', 'city',\n",
       "       'state', 'postal_code', 'region', 'category', 'sub_category',\n",
       "       'product_id', 'cost_price', 'list_price', 'quantity',\n",
       "       'discount_percent'],\n",
       "      dtype='object')"
      ]
     },
     "execution_count": 99,
     "metadata": {},
     "output_type": "execute_result"
    }
   ],
   "source": [
    "#rename column \n",
    "# lowercase the column names\n",
    "df.columns = df.columns.str.lower()\n",
    "\n",
    "# add '_' in empty spaces inbetween \n",
    "df.columns = df.columns.str.replace(' ', '_')\n",
    "df.columns"
   ]
  },
  {
   "cell_type": "code",
   "execution_count": 100,
   "metadata": {},
   "outputs": [
    {
     "data": {
      "text/plain": [
       "Index(['order_id', 'order_date', 'ship_mode', 'segment', 'country', 'city',\n",
       "       'state', 'postal_code', 'region', 'category', 'sub_category',\n",
       "       'product_id', 'cost_price', 'list_price', 'quantity',\n",
       "       'discount_percent'],\n",
       "      dtype='object')"
      ]
     },
     "execution_count": 100,
     "metadata": {},
     "output_type": "execute_result"
    }
   ],
   "source": [
    "#Trim spacing\n",
    "df.columns=df.columns.str.strip()\n",
    "df.columns"
   ]
  },
  {
   "cell_type": "code",
   "execution_count": 101,
   "metadata": {},
   "outputs": [
    {
     "data": {
      "text/html": [
       "<div>\n",
       "<style scoped>\n",
       "    .dataframe tbody tr th:only-of-type {\n",
       "        vertical-align: middle;\n",
       "    }\n",
       "\n",
       "    .dataframe tbody tr th {\n",
       "        vertical-align: top;\n",
       "    }\n",
       "\n",
       "    .dataframe thead th {\n",
       "        text-align: right;\n",
       "    }\n",
       "</style>\n",
       "<table border=\"1\" class=\"dataframe\">\n",
       "  <thead>\n",
       "    <tr style=\"text-align: right;\">\n",
       "      <th></th>\n",
       "      <th>order_id</th>\n",
       "      <th>order_date</th>\n",
       "      <th>ship_mode</th>\n",
       "      <th>segment</th>\n",
       "      <th>country</th>\n",
       "      <th>city</th>\n",
       "      <th>state</th>\n",
       "      <th>postal_code</th>\n",
       "      <th>region</th>\n",
       "      <th>category</th>\n",
       "      <th>sub_category</th>\n",
       "      <th>product_id</th>\n",
       "      <th>cost_price</th>\n",
       "      <th>list_price</th>\n",
       "      <th>quantity</th>\n",
       "      <th>discount_percent</th>\n",
       "      <th>discount</th>\n",
       "      <th>sale_price</th>\n",
       "      <th>profit</th>\n",
       "    </tr>\n",
       "  </thead>\n",
       "  <tbody>\n",
       "    <tr>\n",
       "      <th>0</th>\n",
       "      <td>1</td>\n",
       "      <td>2023-03-01</td>\n",
       "      <td>Second Class</td>\n",
       "      <td>Consumer</td>\n",
       "      <td>United States</td>\n",
       "      <td>Henderson</td>\n",
       "      <td>Kentucky</td>\n",
       "      <td>42420</td>\n",
       "      <td>South</td>\n",
       "      <td>Furniture</td>\n",
       "      <td>Bookcases</td>\n",
       "      <td>FUR-BO-10001798</td>\n",
       "      <td>240</td>\n",
       "      <td>260</td>\n",
       "      <td>2</td>\n",
       "      <td>2</td>\n",
       "      <td>5.2</td>\n",
       "      <td>254.8</td>\n",
       "      <td>14.8</td>\n",
       "    </tr>\n",
       "    <tr>\n",
       "      <th>1</th>\n",
       "      <td>2</td>\n",
       "      <td>2023-08-15</td>\n",
       "      <td>Second Class</td>\n",
       "      <td>Consumer</td>\n",
       "      <td>United States</td>\n",
       "      <td>Henderson</td>\n",
       "      <td>Kentucky</td>\n",
       "      <td>42420</td>\n",
       "      <td>South</td>\n",
       "      <td>Furniture</td>\n",
       "      <td>Chairs</td>\n",
       "      <td>FUR-CH-10000454</td>\n",
       "      <td>600</td>\n",
       "      <td>730</td>\n",
       "      <td>3</td>\n",
       "      <td>3</td>\n",
       "      <td>21.9</td>\n",
       "      <td>708.1</td>\n",
       "      <td>108.1</td>\n",
       "    </tr>\n",
       "    <tr>\n",
       "      <th>2</th>\n",
       "      <td>3</td>\n",
       "      <td>2023-01-10</td>\n",
       "      <td>Second Class</td>\n",
       "      <td>Corporate</td>\n",
       "      <td>United States</td>\n",
       "      <td>Los Angeles</td>\n",
       "      <td>California</td>\n",
       "      <td>90036</td>\n",
       "      <td>West</td>\n",
       "      <td>Office Supplies</td>\n",
       "      <td>Labels</td>\n",
       "      <td>OFF-LA-10000240</td>\n",
       "      <td>10</td>\n",
       "      <td>10</td>\n",
       "      <td>2</td>\n",
       "      <td>5</td>\n",
       "      <td>0.5</td>\n",
       "      <td>9.5</td>\n",
       "      <td>-0.5</td>\n",
       "    </tr>\n",
       "    <tr>\n",
       "      <th>3</th>\n",
       "      <td>4</td>\n",
       "      <td>2022-06-18</td>\n",
       "      <td>Standard Class</td>\n",
       "      <td>Consumer</td>\n",
       "      <td>United States</td>\n",
       "      <td>Fort Lauderdale</td>\n",
       "      <td>Florida</td>\n",
       "      <td>33311</td>\n",
       "      <td>South</td>\n",
       "      <td>Furniture</td>\n",
       "      <td>Tables</td>\n",
       "      <td>FUR-TA-10000577</td>\n",
       "      <td>780</td>\n",
       "      <td>960</td>\n",
       "      <td>5</td>\n",
       "      <td>2</td>\n",
       "      <td>19.2</td>\n",
       "      <td>940.8</td>\n",
       "      <td>160.8</td>\n",
       "    </tr>\n",
       "    <tr>\n",
       "      <th>4</th>\n",
       "      <td>5</td>\n",
       "      <td>2022-07-13</td>\n",
       "      <td>Standard Class</td>\n",
       "      <td>Consumer</td>\n",
       "      <td>United States</td>\n",
       "      <td>Fort Lauderdale</td>\n",
       "      <td>Florida</td>\n",
       "      <td>33311</td>\n",
       "      <td>South</td>\n",
       "      <td>Office Supplies</td>\n",
       "      <td>Storage</td>\n",
       "      <td>OFF-ST-10000760</td>\n",
       "      <td>20</td>\n",
       "      <td>20</td>\n",
       "      <td>2</td>\n",
       "      <td>5</td>\n",
       "      <td>1.0</td>\n",
       "      <td>19.0</td>\n",
       "      <td>-1.0</td>\n",
       "    </tr>\n",
       "    <tr>\n",
       "      <th>...</th>\n",
       "      <td>...</td>\n",
       "      <td>...</td>\n",
       "      <td>...</td>\n",
       "      <td>...</td>\n",
       "      <td>...</td>\n",
       "      <td>...</td>\n",
       "      <td>...</td>\n",
       "      <td>...</td>\n",
       "      <td>...</td>\n",
       "      <td>...</td>\n",
       "      <td>...</td>\n",
       "      <td>...</td>\n",
       "      <td>...</td>\n",
       "      <td>...</td>\n",
       "      <td>...</td>\n",
       "      <td>...</td>\n",
       "      <td>...</td>\n",
       "      <td>...</td>\n",
       "      <td>...</td>\n",
       "    </tr>\n",
       "    <tr>\n",
       "      <th>9989</th>\n",
       "      <td>9990</td>\n",
       "      <td>2023-02-18</td>\n",
       "      <td>Second Class</td>\n",
       "      <td>Consumer</td>\n",
       "      <td>United States</td>\n",
       "      <td>Miami</td>\n",
       "      <td>Florida</td>\n",
       "      <td>33180</td>\n",
       "      <td>South</td>\n",
       "      <td>Furniture</td>\n",
       "      <td>Furnishings</td>\n",
       "      <td>FUR-FU-10001889</td>\n",
       "      <td>30</td>\n",
       "      <td>30</td>\n",
       "      <td>3</td>\n",
       "      <td>4</td>\n",
       "      <td>1.2</td>\n",
       "      <td>28.8</td>\n",
       "      <td>-1.2</td>\n",
       "    </tr>\n",
       "    <tr>\n",
       "      <th>9990</th>\n",
       "      <td>9991</td>\n",
       "      <td>2023-03-17</td>\n",
       "      <td>Standard Class</td>\n",
       "      <td>Consumer</td>\n",
       "      <td>United States</td>\n",
       "      <td>Costa Mesa</td>\n",
       "      <td>California</td>\n",
       "      <td>92627</td>\n",
       "      <td>West</td>\n",
       "      <td>Furniture</td>\n",
       "      <td>Furnishings</td>\n",
       "      <td>FUR-FU-10000747</td>\n",
       "      <td>70</td>\n",
       "      <td>90</td>\n",
       "      <td>2</td>\n",
       "      <td>4</td>\n",
       "      <td>3.6</td>\n",
       "      <td>86.4</td>\n",
       "      <td>16.4</td>\n",
       "    </tr>\n",
       "    <tr>\n",
       "      <th>9991</th>\n",
       "      <td>9992</td>\n",
       "      <td>2022-08-07</td>\n",
       "      <td>Standard Class</td>\n",
       "      <td>Consumer</td>\n",
       "      <td>United States</td>\n",
       "      <td>Costa Mesa</td>\n",
       "      <td>California</td>\n",
       "      <td>92627</td>\n",
       "      <td>West</td>\n",
       "      <td>Technology</td>\n",
       "      <td>Phones</td>\n",
       "      <td>TEC-PH-10003645</td>\n",
       "      <td>220</td>\n",
       "      <td>260</td>\n",
       "      <td>2</td>\n",
       "      <td>2</td>\n",
       "      <td>5.2</td>\n",
       "      <td>254.8</td>\n",
       "      <td>34.8</td>\n",
       "    </tr>\n",
       "    <tr>\n",
       "      <th>9992</th>\n",
       "      <td>9993</td>\n",
       "      <td>2022-11-19</td>\n",
       "      <td>Standard Class</td>\n",
       "      <td>Consumer</td>\n",
       "      <td>United States</td>\n",
       "      <td>Costa Mesa</td>\n",
       "      <td>California</td>\n",
       "      <td>92627</td>\n",
       "      <td>West</td>\n",
       "      <td>Office Supplies</td>\n",
       "      <td>Paper</td>\n",
       "      <td>OFF-PA-10004041</td>\n",
       "      <td>30</td>\n",
       "      <td>30</td>\n",
       "      <td>4</td>\n",
       "      <td>3</td>\n",
       "      <td>0.9</td>\n",
       "      <td>29.1</td>\n",
       "      <td>-0.9</td>\n",
       "    </tr>\n",
       "    <tr>\n",
       "      <th>9993</th>\n",
       "      <td>9994</td>\n",
       "      <td>2022-07-17</td>\n",
       "      <td>Second Class</td>\n",
       "      <td>Consumer</td>\n",
       "      <td>United States</td>\n",
       "      <td>Westminster</td>\n",
       "      <td>California</td>\n",
       "      <td>92683</td>\n",
       "      <td>West</td>\n",
       "      <td>Office Supplies</td>\n",
       "      <td>Appliances</td>\n",
       "      <td>OFF-AP-10002684</td>\n",
       "      <td>210</td>\n",
       "      <td>240</td>\n",
       "      <td>2</td>\n",
       "      <td>3</td>\n",
       "      <td>7.2</td>\n",
       "      <td>232.8</td>\n",
       "      <td>22.8</td>\n",
       "    </tr>\n",
       "  </tbody>\n",
       "</table>\n",
       "<p>9994 rows × 19 columns</p>\n",
       "</div>"
      ],
      "text/plain": [
       "      order_id  order_date       ship_mode    segment        country  \\\n",
       "0            1  2023-03-01    Second Class   Consumer  United States   \n",
       "1            2  2023-08-15    Second Class   Consumer  United States   \n",
       "2            3  2023-01-10    Second Class  Corporate  United States   \n",
       "3            4  2022-06-18  Standard Class   Consumer  United States   \n",
       "4            5  2022-07-13  Standard Class   Consumer  United States   \n",
       "...        ...         ...             ...        ...            ...   \n",
       "9989      9990  2023-02-18    Second Class   Consumer  United States   \n",
       "9990      9991  2023-03-17  Standard Class   Consumer  United States   \n",
       "9991      9992  2022-08-07  Standard Class   Consumer  United States   \n",
       "9992      9993  2022-11-19  Standard Class   Consumer  United States   \n",
       "9993      9994  2022-07-17    Second Class   Consumer  United States   \n",
       "\n",
       "                 city       state  postal_code region         category  \\\n",
       "0           Henderson    Kentucky        42420  South        Furniture   \n",
       "1           Henderson    Kentucky        42420  South        Furniture   \n",
       "2         Los Angeles  California        90036   West  Office Supplies   \n",
       "3     Fort Lauderdale     Florida        33311  South        Furniture   \n",
       "4     Fort Lauderdale     Florida        33311  South  Office Supplies   \n",
       "...               ...         ...          ...    ...              ...   \n",
       "9989            Miami     Florida        33180  South        Furniture   \n",
       "9990       Costa Mesa  California        92627   West        Furniture   \n",
       "9991       Costa Mesa  California        92627   West       Technology   \n",
       "9992       Costa Mesa  California        92627   West  Office Supplies   \n",
       "9993      Westminster  California        92683   West  Office Supplies   \n",
       "\n",
       "     sub_category       product_id  cost_price  list_price  quantity  \\\n",
       "0       Bookcases  FUR-BO-10001798         240         260         2   \n",
       "1          Chairs  FUR-CH-10000454         600         730         3   \n",
       "2          Labels  OFF-LA-10000240          10          10         2   \n",
       "3          Tables  FUR-TA-10000577         780         960         5   \n",
       "4         Storage  OFF-ST-10000760          20          20         2   \n",
       "...           ...              ...         ...         ...       ...   \n",
       "9989  Furnishings  FUR-FU-10001889          30          30         3   \n",
       "9990  Furnishings  FUR-FU-10000747          70          90         2   \n",
       "9991       Phones  TEC-PH-10003645         220         260         2   \n",
       "9992        Paper  OFF-PA-10004041          30          30         4   \n",
       "9993   Appliances  OFF-AP-10002684         210         240         2   \n",
       "\n",
       "      discount_percent  discount  sale_price  profit  \n",
       "0                    2       5.2       254.8    14.8  \n",
       "1                    3      21.9       708.1   108.1  \n",
       "2                    5       0.5         9.5    -0.5  \n",
       "3                    2      19.2       940.8   160.8  \n",
       "4                    5       1.0        19.0    -1.0  \n",
       "...                ...       ...         ...     ...  \n",
       "9989                 4       1.2        28.8    -1.2  \n",
       "9990                 4       3.6        86.4    16.4  \n",
       "9991                 2       5.2       254.8    34.8  \n",
       "9992                 3       0.9        29.1    -0.9  \n",
       "9993                 3       7.2       232.8    22.8  \n",
       "\n",
       "[9994 rows x 19 columns]"
      ]
     },
     "execution_count": 101,
     "metadata": {},
     "output_type": "execute_result"
    }
   ],
   "source": [
    "# derive new columns\n",
    "df['discount'] = (df.list_price * df.discount_percent) / 100  # actual discount column in amount\n",
    "df['sale_price'] = df.list_price - df.discount  # sale_price is (list price - discount)\n",
    "df['profit'] = (df.sale_price - df.cost_price)  # profit is (sale price - cost price)\n",
    "df"
   ]
  },
  {
   "cell_type": "code",
   "execution_count": 102,
   "metadata": {},
   "outputs": [
    {
     "data": {
      "text/plain": [
       "Index(['order_id', 'order_date', 'ship_mode', 'segment', 'country', 'city',\n",
       "       'state', 'postal_code', 'region', 'category', 'sub_category',\n",
       "       'product_id', 'cost_price', 'list_price', 'quantity',\n",
       "       'discount_percent', 'discount', 'sale_price', 'profit'],\n",
       "      dtype='object')"
      ]
     },
     "execution_count": 102,
     "metadata": {},
     "output_type": "execute_result"
    }
   ],
   "source": [
    "df.columns"
   ]
  },
  {
   "cell_type": "code",
   "execution_count": 103,
   "metadata": {},
   "outputs": [],
   "source": [
    "# moving df as dataframe_1.csv file\n",
    "df.to_csv('dataframe.csv', index=False)"
   ]
  },
  {
   "cell_type": "code",
   "execution_count": 104,
   "metadata": {},
   "outputs": [
    {
     "name": "stdout",
     "output_type": "stream",
     "text": [
      "      order_id  order_date       ship_mode    segment        country  \\\n",
      "0            1  2023-03-01    Second Class   Consumer  United States   \n",
      "1            2  2023-08-15    Second Class   Consumer  United States   \n",
      "2            3  2023-01-10    Second Class  Corporate  United States   \n",
      "3            4  2022-06-18  Standard Class   Consumer  United States   \n",
      "4            5  2022-07-13  Standard Class   Consumer  United States   \n",
      "...        ...         ...             ...        ...            ...   \n",
      "9989      9990  2023-02-18    Second Class   Consumer  United States   \n",
      "9990      9991  2023-03-17  Standard Class   Consumer  United States   \n",
      "9991      9992  2022-08-07  Standard Class   Consumer  United States   \n",
      "9992      9993  2022-11-19  Standard Class   Consumer  United States   \n",
      "9993      9994  2022-07-17    Second Class   Consumer  United States   \n",
      "\n",
      "                 city       state  postal_code region         category  \\\n",
      "0           Henderson    Kentucky        42420  South        Furniture   \n",
      "1           Henderson    Kentucky        42420  South        Furniture   \n",
      "2         Los Angeles  California        90036   West  Office Supplies   \n",
      "3     Fort Lauderdale     Florida        33311  South        Furniture   \n",
      "4     Fort Lauderdale     Florida        33311  South  Office Supplies   \n",
      "...               ...         ...          ...    ...              ...   \n",
      "9989            Miami     Florida        33180  South        Furniture   \n",
      "9990       Costa Mesa  California        92627   West        Furniture   \n",
      "9991       Costa Mesa  California        92627   West       Technology   \n",
      "9992       Costa Mesa  California        92627   West  Office Supplies   \n",
      "9993      Westminster  California        92683   West  Office Supplies   \n",
      "\n",
      "     sub_category  \n",
      "0       Bookcases  \n",
      "1          Chairs  \n",
      "2          Labels  \n",
      "3          Tables  \n",
      "4         Storage  \n",
      "...           ...  \n",
      "9989  Furnishings  \n",
      "9990  Furnishings  \n",
      "9991       Phones  \n",
      "9992        Paper  \n",
      "9993   Appliances  \n",
      "\n",
      "[9994 rows x 11 columns]\n"
     ]
    }
   ],
   "source": [
    "#splitting table df1\n",
    "df1=df[['order_id','order_date', 'ship_mode', 'segment', 'country', 'city',\n",
    "       'state', 'postal_code', 'region', 'category', 'sub_category']]\n",
    "print(df1)"
   ]
  },
  {
   "cell_type": "code",
   "execution_count": 105,
   "metadata": {},
   "outputs": [
    {
     "name": "stdout",
     "output_type": "stream",
     "text": [
      "      order_id       product_id  cost_price  list_price  quantity  \\\n",
      "0            1  FUR-BO-10001798         240         260         2   \n",
      "1            2  FUR-CH-10000454         600         730         3   \n",
      "2            3  OFF-LA-10000240          10          10         2   \n",
      "3            4  FUR-TA-10000577         780         960         5   \n",
      "4            5  OFF-ST-10000760          20          20         2   \n",
      "...        ...              ...         ...         ...       ...   \n",
      "9989      9990  FUR-FU-10001889          30          30         3   \n",
      "9990      9991  FUR-FU-10000747          70          90         2   \n",
      "9991      9992  TEC-PH-10003645         220         260         2   \n",
      "9992      9993  OFF-PA-10004041          30          30         4   \n",
      "9993      9994  OFF-AP-10002684         210         240         2   \n",
      "\n",
      "      discount_percent  discount  sale_price  profit  \n",
      "0                    2       5.2       254.8    14.8  \n",
      "1                    3      21.9       708.1   108.1  \n",
      "2                    5       0.5         9.5    -0.5  \n",
      "3                    2      19.2       940.8   160.8  \n",
      "4                    5       1.0        19.0    -1.0  \n",
      "...                ...       ...         ...     ...  \n",
      "9989                 4       1.2        28.8    -1.2  \n",
      "9990                 4       3.6        86.4    16.4  \n",
      "9991                 2       5.2       254.8    34.8  \n",
      "9992                 3       0.9        29.1    -0.9  \n",
      "9993                 3       7.2       232.8    22.8  \n",
      "\n",
      "[9994 rows x 9 columns]\n"
     ]
    }
   ],
   "source": [
    "#splitting table df2\n",
    "df2=df[['order_id','product_id', 'cost_price', 'list_price', 'quantity',\n",
    "       'discount_percent', 'discount', 'sale_price', 'profit']]\n",
    "print(df2)"
   ]
  },
  {
   "cell_type": "code",
   "execution_count": 106,
   "metadata": {},
   "outputs": [],
   "source": [
    "# df1 as dataframe1.csv\n",
    "df1.to_csv('dataframe1.csv', index=False)"
   ]
  },
  {
   "cell_type": "code",
   "execution_count": 107,
   "metadata": {},
   "outputs": [],
   "source": [
    "#df2 as dataframe2.csv\n",
    "df2.to_csv('dataframe2.csv', index=False)"
   ]
  },
  {
   "cell_type": "code",
   "execution_count": null,
   "metadata": {},
   "outputs": [],
   "source": [
    "!pip install mysql-connector-python\n"
   ]
  },
  {
   "cell_type": "code",
   "execution_count": null,
   "metadata": {},
   "outputs": [],
   "source": [
    "#connecting XAMPP server \n",
    "import mysql.connector \n",
    "\n",
    "mydb = mysql.connector.connect(\n",
    " host=\"localhost\",\n",
    " user=\"root\",\n",
    " password=\"\",\n",
    " database=\"retailorder\"\n",
    "\n",
    " )\n",
    "\n",
    "print(mydb)\n",
    "mycursor = mydb.cursor(buffered=True)"
   ]
  },
  {
   "cell_type": "code",
   "execution_count": null,
   "metadata": {},
   "outputs": [],
   "source": [
    "#create database \n",
    "mycursor.execute(\"create database retailorder\")"
   ]
  },
  {
   "cell_type": "code",
   "execution_count": null,
   "metadata": {},
   "outputs": [],
   "source": [
    "#to check the dataframe \n",
    "mycursor.execute(\"select * from dataframe_1\")\n",
    "a=mycursor.fetchall()\n",
    "from tabulate import tabulate\n",
    "print(tabulate(a,headers=[i[0] for i in mycursor.description], tablefmt='psql'))"
   ]
  }
 ],
 "metadata": {
  "kernelspec": {
   "display_name": "Python 3",
   "language": "python",
   "name": "python3"
  },
  "language_info": {
   "codemirror_mode": {
    "name": "ipython",
    "version": 3
   },
   "file_extension": ".py",
   "mimetype": "text/x-python",
   "name": "python",
   "nbconvert_exporter": "python",
   "pygments_lexer": "ipython3",
   "version": "3.12.5"
  }
 },
 "nbformat": 4,
 "nbformat_minor": 2
}
